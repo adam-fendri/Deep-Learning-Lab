{
  "nbformat": 4,
  "nbformat_minor": 0,
  "metadata": {
    "colab": {
      "provenance": [],
      "gpuType": "T4"
    },
    "kernelspec": {
      "name": "python3",
      "display_name": "Python 3"
    },
    "language_info": {
      "name": "python"
    },
    "accelerator": "GPU"
  },
  "cells": [
    {
      "cell_type": "code",
      "execution_count": null,
      "metadata": {
        "colab": {
          "base_uri": "https://localhost:8080/"
        },
        "id": "rV1c1HSNZ-N9",
        "outputId": "a1774732-4933-443d-84ad-1fe7ebb18657"
      },
      "outputs": [
        {
          "output_type": "stream",
          "name": "stdout",
          "text": [
            "Num GPUs Available:  1\n"
          ]
        }
      ],
      "source": [
        "import tensorflow as tf\n",
        "print(\"Num GPUs Available: \", len(tf.config.experimental.list_physical_devices('GPU')))\n",
        "import numpy as np\n",
        "from keras.datasets import mnist\n",
        "from keras.utils import to_categorical\n",
        "from keras import backend as K\n",
        "K.set_image_data_format('channels_first')\n",
        "#fix random seed for reproducibility\n",
        "seed = 7\n",
        "np.random.seed(seed)\n",
        "from keras.models import Sequential\n",
        "from keras.layers import Dense\n",
        "from keras.layers import Dropout\n",
        "from keras.layers import Flatten\n",
        "from keras.layers import Conv2D\n",
        "from keras.layers import MaxPooling2D"
      ]
    },
    {
      "cell_type": "code",
      "source": [
        "#load data\n",
        "(X_train, y_train),(X_test, y_test)= mnist.load_data()"
      ],
      "metadata": {
        "colab": {
          "base_uri": "https://localhost:8080/"
        },
        "id": "tgWu4hsLaYXB",
        "outputId": "3f347b41-6406-474f-f781-e300a5016bdb"
      },
      "execution_count": null,
      "outputs": [
        {
          "output_type": "stream",
          "name": "stdout",
          "text": [
            "Downloading data from https://storage.googleapis.com/tensorflow/tf-keras-datasets/mnist.npz\n",
            "11490434/11490434 [==============================] - 0s 0us/step\n"
          ]
        }
      ]
    },
    {
      "cell_type": "code",
      "source": [
        "# reshape to be [samples][pixels][width][height]\n",
        "X_train = X_train.reshape(X_train.shape[0], 1, 28,28).astype('float32')\n",
        "X_test = X_test.reshape(X_test.shape[0], 1, 28, 28).astype('float32')"
      ],
      "metadata": {
        "id": "WXbyab_eafO1"
      },
      "execution_count": null,
      "outputs": []
    },
    {
      "cell_type": "code",
      "source": [
        "#one hot encode outputs\n",
        "y_train = to_categorical(y_train)\n",
        "y_test = to_categorical(y_test)\n",
        "num_classes = y_test.shape[1]"
      ],
      "metadata": {
        "id": "LRzq-5ssai1I"
      },
      "execution_count": null,
      "outputs": []
    },
    {
      "cell_type": "code",
      "source": [
        "def get_data_mnist() :\n",
        "    #load data\n",
        "    (X_train, y_train),(X_test, y_test)= mnist.load_data()\n",
        "    # reshape to be [samples][pixels][width][height]\n",
        "    X_train = X_train.reshape(X_train.shape[0], 1, 28,28).astype('float32')\n",
        "    X_test = X_test.reshape(X_test.shape[0], 1, 28, 28).astype('float32')\n",
        "    #one hot encode outputs\n",
        "    y_train = to_categorical(y_train)\n",
        "    y_test = to_categorical(y_test)\n",
        "    num_classes = y_test.shape[1]\n",
        "    return (X_train, y_train), (X_test, y_test), num_classes"
      ],
      "metadata": {
        "id": "zj5YAO7wakuZ"
      },
      "execution_count": null,
      "outputs": []
    },
    {
      "cell_type": "code",
      "source": [
        "def small_model(num_classes):\n",
        " # create model\n",
        " model = Sequential()\n",
        " model.add(Conv2D(64, (3, 3), input_shape=(1, 28, 28),activation='relu'))\n",
        " model.add(Conv2D(32, (3, 3), activation='relu'))\n",
        " model.add(Flatten())\n",
        " model.add(Dense(num_classes, activation='softmax'))\n",
        " #compile model\n",
        " model.compile(loss='categorical_crossentropy', optimizer='adam', metrics=['accuracy'])\n",
        " return model"
      ],
      "metadata": {
        "id": "sq3EvzRsanjg"
      },
      "execution_count": null,
      "outputs": []
    },
    {
      "cell_type": "code",
      "source": [
        "model=small_model(num_classes=10)"
      ],
      "metadata": {
        "id": "WJtd6e5Rap7G"
      },
      "execution_count": null,
      "outputs": []
    },
    {
      "cell_type": "code",
      "source": [
        "model.summary()"
      ],
      "metadata": {
        "colab": {
          "base_uri": "https://localhost:8080/"
        },
        "id": "JLainrLKargm",
        "outputId": "e36af68a-5d3d-47ca-d32f-c87fb46feba4"
      },
      "execution_count": null,
      "outputs": [
        {
          "output_type": "stream",
          "name": "stdout",
          "text": [
            "Model: \"sequential\"\n",
            "_________________________________________________________________\n",
            " Layer (type)                Output Shape              Param #   \n",
            "=================================================================\n",
            " conv2d (Conv2D)             (None, 64, 26, 26)        640       \n",
            "                                                                 \n",
            " conv2d_1 (Conv2D)           (None, 32, 24, 24)        18464     \n",
            "                                                                 \n",
            " flatten (Flatten)           (None, 18432)             0         \n",
            "                                                                 \n",
            " dense (Dense)               (None, 10)                184330    \n",
            "                                                                 \n",
            "=================================================================\n",
            "Total params: 203434 (794.66 KB)\n",
            "Trainable params: 203434 (794.66 KB)\n",
            "Non-trainable params: 0 (0.00 Byte)\n",
            "_________________________________________________________________\n"
          ]
        }
      ]
    },
    {
      "cell_type": "code",
      "source": [
        "model.fit(X_train, y_train, validation_data=(X_test, y_test), epochs=10, batch_size=200)"
      ],
      "metadata": {
        "colab": {
          "base_uri": "https://localhost:8080/"
        },
        "id": "zRZBfVkiatwe",
        "outputId": "8eec49f3-fd4d-49be-ca44-547535f54747"
      },
      "execution_count": null,
      "outputs": [
        {
          "output_type": "stream",
          "name": "stdout",
          "text": [
            "Epoch 1/10\n",
            "300/300 [==============================] - 11s 18ms/step - loss: 0.6995 - accuracy: 0.9240 - val_loss: 0.0877 - val_accuracy: 0.9723\n",
            "Epoch 2/10\n",
            "300/300 [==============================] - 3s 11ms/step - loss: 0.0650 - accuracy: 0.9805 - val_loss: 0.0716 - val_accuracy: 0.9788\n",
            "Epoch 3/10\n",
            "300/300 [==============================] - 3s 10ms/step - loss: 0.0431 - accuracy: 0.9862 - val_loss: 0.0771 - val_accuracy: 0.9778\n",
            "Epoch 4/10\n",
            "300/300 [==============================] - 3s 10ms/step - loss: 0.0311 - accuracy: 0.9897 - val_loss: 0.0916 - val_accuracy: 0.9780\n",
            "Epoch 5/10\n",
            "300/300 [==============================] - 3s 11ms/step - loss: 0.0224 - accuracy: 0.9920 - val_loss: 0.0998 - val_accuracy: 0.9769\n",
            "Epoch 6/10\n",
            "300/300 [==============================] - 3s 10ms/step - loss: 0.0196 - accuracy: 0.9933 - val_loss: 0.1140 - val_accuracy: 0.9769\n",
            "Epoch 7/10\n",
            "300/300 [==============================] - 3s 10ms/step - loss: 0.0122 - accuracy: 0.9959 - val_loss: 0.1027 - val_accuracy: 0.9797\n",
            "Epoch 8/10\n",
            "300/300 [==============================] - 3s 10ms/step - loss: 0.0119 - accuracy: 0.9957 - val_loss: 0.1310 - val_accuracy: 0.9773\n",
            "Epoch 9/10\n",
            "300/300 [==============================] - 3s 10ms/step - loss: 0.0162 - accuracy: 0.9947 - val_loss: 0.1364 - val_accuracy: 0.9751\n",
            "Epoch 10/10\n",
            "300/300 [==============================] - 3s 10ms/step - loss: 0.0162 - accuracy: 0.9947 - val_loss: 0.1239 - val_accuracy: 0.9779\n"
          ]
        },
        {
          "output_type": "execute_result",
          "data": {
            "text/plain": [
              "<keras.src.callbacks.History at 0x7edd7d26abc0>"
            ]
          },
          "metadata": {},
          "execution_count": 9
        }
      ]
    },
    {
      "cell_type": "code",
      "source": [
        "def print_model_error_rate(model, X_test, y_test):\n",
        " # Final evaluation of the model\n",
        " scores = model.evaluate(X_test, y_test, verbose=0)\n",
        " print(\"Model score : %.2f%%\" % (scores[1]*100))\n",
        " print(\"Model error rate : %.2f%%\" % (100-scores[1]*100))"
      ],
      "metadata": {
        "id": "GFH5Mi8ra5MI"
      },
      "execution_count": null,
      "outputs": []
    },
    {
      "cell_type": "code",
      "source": [
        "print_model_error_rate(model,X_test,y_test)"
      ],
      "metadata": {
        "colab": {
          "base_uri": "https://localhost:8080/"
        },
        "id": "bWEI4d9Pa_xs",
        "outputId": "c2c51bb1-60ec-4d2d-b504-12a729aa819c"
      },
      "execution_count": null,
      "outputs": [
        {
          "output_type": "stream",
          "name": "stdout",
          "text": [
            "Model score : 97.79%\n",
            "Model error rate : 2.21%\n"
          ]
        }
      ]
    },
    {
      "cell_type": "code",
      "source": [
        "def get_data_mnist2():\n",
        "    # load data\n",
        "    (X_train, y_train), (X_test, y_test) = mnist.load_data()\n",
        "    # reshape to be [samples][pixels][width][height]\n",
        "    X_train = X_train.reshape(X_train.shape[0], 1, 28, 28).astype('float32')\n",
        "    X_test = X_test.reshape(X_test.shape[0], 1, 28, 28).astype('float32')\n",
        "\n",
        "\n",
        "    # normalize inputs from 0-255 to 0-1\n",
        "    X_train = X_train / 255\n",
        "    X_test = X_test / 255\n",
        "    # one hot encode outputs\n",
        "    y_train = to_categorical(y_train)\n",
        "    y_test = to_categorical(y_test)\n",
        "    num_classes = y_test.shape[1]\n",
        "    return (X_train, y_train), (X_test, y_test), num_classes\n"
      ],
      "metadata": {
        "id": "VcgLP2-Gb3Et"
      },
      "execution_count": null,
      "outputs": []
    },
    {
      "cell_type": "code",
      "source": [
        "(X_train1, y_train1), (X_test1, y_test1), num_classes=get_data_mnist2()"
      ],
      "metadata": {
        "id": "IEKWNYqOdGZC"
      },
      "execution_count": null,
      "outputs": []
    },
    {
      "cell_type": "code",
      "source": [
        "model1=small_model(num_classes=10)"
      ],
      "metadata": {
        "id": "JCKBZA21cT-S"
      },
      "execution_count": null,
      "outputs": []
    },
    {
      "cell_type": "code",
      "source": [
        "model1.fit(X_train1, y_train1, validation_data=(X_test1, y_test1), epochs=10, batch_size=200)"
      ],
      "metadata": {
        "colab": {
          "base_uri": "https://localhost:8080/"
        },
        "id": "wvBjAavCcXir",
        "outputId": "497096df-c1fd-4777-d915-ceee1dccadf5"
      },
      "execution_count": null,
      "outputs": [
        {
          "output_type": "stream",
          "name": "stdout",
          "text": [
            "Epoch 1/10\n",
            "300/300 [==============================] - 4s 11ms/step - loss: 0.2206 - accuracy: 0.9363 - val_loss: 0.0672 - val_accuracy: 0.9793\n",
            "Epoch 2/10\n",
            "300/300 [==============================] - 3s 11ms/step - loss: 0.0625 - accuracy: 0.9808 - val_loss: 0.0515 - val_accuracy: 0.9836\n",
            "Epoch 3/10\n",
            "300/300 [==============================] - 3s 10ms/step - loss: 0.0435 - accuracy: 0.9864 - val_loss: 0.0461 - val_accuracy: 0.9853\n",
            "Epoch 4/10\n",
            "300/300 [==============================] - 3s 10ms/step - loss: 0.0319 - accuracy: 0.9903 - val_loss: 0.0461 - val_accuracy: 0.9855\n",
            "Epoch 5/10\n",
            "300/300 [==============================] - 3s 10ms/step - loss: 0.0259 - accuracy: 0.9919 - val_loss: 0.0444 - val_accuracy: 0.9869\n",
            "Epoch 6/10\n",
            "300/300 [==============================] - 3s 11ms/step - loss: 0.0192 - accuracy: 0.9940 - val_loss: 0.0495 - val_accuracy: 0.9853\n",
            "Epoch 7/10\n",
            "300/300 [==============================] - 3s 10ms/step - loss: 0.0152 - accuracy: 0.9954 - val_loss: 0.0500 - val_accuracy: 0.9867\n",
            "Epoch 8/10\n",
            "300/300 [==============================] - 3s 10ms/step - loss: 0.0117 - accuracy: 0.9963 - val_loss: 0.0463 - val_accuracy: 0.9876\n",
            "Epoch 9/10\n",
            "300/300 [==============================] - 3s 10ms/step - loss: 0.0090 - accuracy: 0.9972 - val_loss: 0.0539 - val_accuracy: 0.9861\n",
            "Epoch 10/10\n",
            "300/300 [==============================] - 3s 11ms/step - loss: 0.0086 - accuracy: 0.9972 - val_loss: 0.0606 - val_accuracy: 0.9855\n"
          ]
        },
        {
          "output_type": "execute_result",
          "data": {
            "text/plain": [
              "<keras.src.callbacks.History at 0x7edd1ab27790>"
            ]
          },
          "metadata": {},
          "execution_count": 21
        }
      ]
    },
    {
      "cell_type": "code",
      "source": [
        "print_model_error_rate(model1,X_test1,y_test1)"
      ],
      "metadata": {
        "colab": {
          "base_uri": "https://localhost:8080/"
        },
        "id": "fxWe3j6wceR2",
        "outputId": "2a33d18c-ce3b-4ec1-9fee-123c48748d70"
      },
      "execution_count": null,
      "outputs": [
        {
          "output_type": "stream",
          "name": "stdout",
          "text": [
            "Model score : 98.55%\n",
            "Model error rate : 1.45%\n"
          ]
        }
      ]
    },
    {
      "cell_type": "code",
      "source": [
        "def medium_model():\n",
        "    # create model\n",
        "    model = Sequential()\n",
        "    model.add(Conv2D(32, (5, 5), input_shape=(1, 28, 28), activation='relu'))\n",
        "    model.add(MaxPooling2D(pool_size=(2, 2)))\n",
        "    model.add(Dropout(0.2))\n",
        "    model.add(Flatten())\n",
        "    model.add(Dense(128, activation='relu'))\n",
        "    model.add(Dense(num_classes, activation='softmax'))\n",
        "    # Compile model\n",
        "    model.compile(loss='categorical_crossentropy', optimizer='adam', metrics=['accuracy'])\n",
        "    return model"
      ],
      "metadata": {
        "id": "d1W1ZboIcn13"
      },
      "execution_count": null,
      "outputs": []
    },
    {
      "cell_type": "code",
      "source": [
        "model_medium = medium_model()\n",
        "\n",
        "model_medium.fit(X_train, y_train, validation_data=(X_test1, y_test1), epochs=10, batch_size=200)\n",
        "print_model_error_rate(model_medium,X_test1,y_test1)"
      ],
      "metadata": {
        "colab": {
          "base_uri": "https://localhost:8080/"
        },
        "id": "uDhStoUidywY",
        "outputId": "fbab7b67-62ef-4525-c30d-6bee4a992755"
      },
      "execution_count": null,
      "outputs": [
        {
          "output_type": "stream",
          "name": "stdout",
          "text": [
            "Epoch 1/10\n",
            "300/300 [==============================] - 5s 5ms/step - loss: 0.2340 - accuracy: 0.9319 - val_loss: 0.0713 - val_accuracy: 0.9784\n",
            "Epoch 2/10\n",
            "300/300 [==============================] - 1s 4ms/step - loss: 0.0707 - accuracy: 0.9791 - val_loss: 0.0484 - val_accuracy: 0.9844\n",
            "Epoch 3/10\n",
            "300/300 [==============================] - 1s 4ms/step - loss: 0.0515 - accuracy: 0.9847 - val_loss: 0.0379 - val_accuracy: 0.9875\n",
            "Epoch 4/10\n",
            "300/300 [==============================] - 1s 4ms/step - loss: 0.0406 - accuracy: 0.9874 - val_loss: 0.0358 - val_accuracy: 0.9880\n",
            "Epoch 5/10\n",
            "300/300 [==============================] - 1s 4ms/step - loss: 0.0321 - accuracy: 0.9895 - val_loss: 0.0363 - val_accuracy: 0.9877\n",
            "Epoch 6/10\n",
            "300/300 [==============================] - 2s 5ms/step - loss: 0.0267 - accuracy: 0.9909 - val_loss: 0.0318 - val_accuracy: 0.9898\n",
            "Epoch 7/10\n",
            "300/300 [==============================] - 2s 5ms/step - loss: 0.0228 - accuracy: 0.9926 - val_loss: 0.0360 - val_accuracy: 0.9877\n",
            "Epoch 8/10\n",
            "300/300 [==============================] - 1s 4ms/step - loss: 0.0199 - accuracy: 0.9937 - val_loss: 0.0329 - val_accuracy: 0.9897\n",
            "Epoch 9/10\n",
            "300/300 [==============================] - 1s 4ms/step - loss: 0.0156 - accuracy: 0.9948 - val_loss: 0.0314 - val_accuracy: 0.9907\n",
            "Epoch 10/10\n",
            "300/300 [==============================] - 1s 4ms/step - loss: 0.0140 - accuracy: 0.9955 - val_loss: 0.0343 - val_accuracy: 0.9880\n",
            "Model score : 98.80%\n",
            "Model error rate : 1.20%\n"
          ]
        }
      ]
    },
    {
      "cell_type": "code",
      "source": [
        "def large_model():\n",
        "    # create model\n",
        "    model = Sequential()\n",
        "    model.add(Conv2D(30, (5, 5), input_shape=(1, 28, 28), activation='relu'))\n",
        "    model.add(MaxPooling2D(pool_size=(2, 2)))\n",
        "    model.add(Conv2D(15, (3, 3), activation='relu'))\n",
        "    model.add(MaxPooling2D(pool_size=(2, 2)))\n",
        "    model.add(Dropout(0.2))\n",
        "    model.add(Flatten())\n",
        "    model.add(Dense(128, activation='relu'))\n",
        "    model.add(Dense(50, activation='relu'))\n",
        "    model.add(Dense(num_classes, activation='softmax'))\n",
        "    # Compile model\n",
        "    model.compile(loss='categorical_crossentropy', optimizer='adam', metrics=['accuracy'])\n",
        "    return model"
      ],
      "metadata": {
        "id": "LE-5-UTyeAwl"
      },
      "execution_count": null,
      "outputs": []
    },
    {
      "cell_type": "code",
      "source": [
        "model_large = large_model()\n",
        "\n",
        "model_large.fit(X_train, y_train, validation_data=(X_test1, y_test1), epochs=10, batch_size=200)\n",
        "print_model_error_rate(model_large,X_test1,y_test1)"
      ],
      "metadata": {
        "colab": {
          "base_uri": "https://localhost:8080/"
        },
        "id": "2IeLfdkLeDCU",
        "outputId": "1afc50e9-6e3b-4829-a0a3-62df4df30e80"
      },
      "execution_count": null,
      "outputs": [
        {
          "output_type": "stream",
          "name": "stdout",
          "text": [
            "Epoch 1/10\n",
            "300/300 [==============================] - 4s 7ms/step - loss: 0.3905 - accuracy: 0.8811 - val_loss: 0.0872 - val_accuracy: 0.9730\n",
            "Epoch 2/10\n",
            "300/300 [==============================] - 2s 5ms/step - loss: 0.1005 - accuracy: 0.9690 - val_loss: 0.0524 - val_accuracy: 0.9828\n",
            "Epoch 3/10\n",
            "300/300 [==============================] - 2s 7ms/step - loss: 0.0718 - accuracy: 0.9778 - val_loss: 0.0408 - val_accuracy: 0.9861\n",
            "Epoch 4/10\n",
            "300/300 [==============================] - 2s 6ms/step - loss: 0.0585 - accuracy: 0.9820 - val_loss: 0.0343 - val_accuracy: 0.9876\n",
            "Epoch 5/10\n",
            "300/300 [==============================] - 2s 5ms/step - loss: 0.0497 - accuracy: 0.9840 - val_loss: 0.0380 - val_accuracy: 0.9874\n",
            "Epoch 6/10\n",
            "300/300 [==============================] - 2s 5ms/step - loss: 0.0447 - accuracy: 0.9862 - val_loss: 0.0319 - val_accuracy: 0.9891\n",
            "Epoch 7/10\n",
            "300/300 [==============================] - 1s 5ms/step - loss: 0.0388 - accuracy: 0.9879 - val_loss: 0.0303 - val_accuracy: 0.9898\n",
            "Epoch 8/10\n",
            "300/300 [==============================] - 1s 5ms/step - loss: 0.0349 - accuracy: 0.9888 - val_loss: 0.0285 - val_accuracy: 0.9903\n",
            "Epoch 9/10\n",
            "300/300 [==============================] - 2s 5ms/step - loss: 0.0319 - accuracy: 0.9901 - val_loss: 0.0274 - val_accuracy: 0.9906\n",
            "Epoch 10/10\n",
            "300/300 [==============================] - 2s 5ms/step - loss: 0.0306 - accuracy: 0.9899 - val_loss: 0.0254 - val_accuracy: 0.9915\n",
            "Model score : 99.15%\n",
            "Model error rate : 0.85%\n"
          ]
        }
      ]
    },
    {
      "cell_type": "code",
      "source": [
        "from keras.models import model_from_json"
      ],
      "metadata": {
        "id": "mqycHALheTTE"
      },
      "execution_count": null,
      "outputs": []
    },
    {
      "cell_type": "code",
      "source": [
        "def save_keras_model(model, filename):\n",
        "  # serialize model to JSON\n",
        "  model_json = model.to_json()\n",
        "  with open(filename+\".json\", \"w\") as json_file:\n",
        "    json_file.write(model_json)\n",
        "  # serialize weights to HDF5\n",
        "  model.save_weights(filename+\".h5\")"
      ],
      "metadata": {
        "id": "538aSxOfeVrV"
      },
      "execution_count": null,
      "outputs": []
    },
    {
      "cell_type": "code",
      "source": [
        "save_keras_model(model1,\"small_model\")\n",
        "save_keras_model(model_medium,\"medium_model\")\n",
        "save_keras_model(model_large,\"large_model\")"
      ],
      "metadata": {
        "id": "_afL7Ke4eYKi"
      },
      "execution_count": null,
      "outputs": []
    },
    {
      "cell_type": "code",
      "source": [
        "def load_keras_model(filename):\n",
        "  # load json and create model\n",
        "  json_file = open(filename+\".json\", 'r')\n",
        "  loaded_model_json = json_file.read()\n",
        "  json_file.close()\n",
        "  loaded_model = model_from_json(loaded_model_json)\n",
        "  # load weights into new model\n",
        "  loaded_model.load_weights(filename+\".h5\")\n",
        "  return loaded_model"
      ],
      "metadata": {
        "id": "KPad6LvrecYt"
      },
      "execution_count": null,
      "outputs": []
    },
    {
      "cell_type": "code",
      "source": [
        "small_model=load_keras_model(\"small_model\")\n",
        "small_model.summary()\n",
        "medium_model=load_keras_model(\"medium_model\")\n",
        "medium_model.summary()\n",
        "large_model=load_keras_model(\"large_model\")\n",
        "large_model.summary()"
      ],
      "metadata": {
        "colab": {
          "base_uri": "https://localhost:8080/"
        },
        "id": "GHnmruGqefRy",
        "outputId": "4aee7e98-bec5-449a-95c7-30501db87c92"
      },
      "execution_count": null,
      "outputs": [
        {
          "output_type": "stream",
          "name": "stdout",
          "text": [
            "Model: \"sequential_3\"\n",
            "_________________________________________________________________\n",
            " Layer (type)                Output Shape              Param #   \n",
            "=================================================================\n",
            " conv2d_6 (Conv2D)           (None, 64, 26, 26)        640       \n",
            "                                                                 \n",
            " conv2d_7 (Conv2D)           (None, 32, 24, 24)        18464     \n",
            "                                                                 \n",
            " flatten_3 (Flatten)         (None, 18432)             0         \n",
            "                                                                 \n",
            " dense_3 (Dense)             (None, 10)                184330    \n",
            "                                                                 \n",
            "=================================================================\n",
            "Total params: 203434 (794.66 KB)\n",
            "Trainable params: 203434 (794.66 KB)\n",
            "Non-trainable params: 0 (0.00 Byte)\n",
            "_________________________________________________________________\n",
            "Model: \"sequential_4\"\n",
            "_________________________________________________________________\n",
            " Layer (type)                Output Shape              Param #   \n",
            "=================================================================\n",
            " conv2d_8 (Conv2D)           (None, 32, 24, 24)        832       \n",
            "                                                                 \n",
            " max_pooling2d (MaxPooling2  (None, 32, 12, 12)        0         \n",
            " D)                                                              \n",
            "                                                                 \n",
            " dropout (Dropout)           (None, 32, 12, 12)        0         \n",
            "                                                                 \n",
            " flatten_4 (Flatten)         (None, 4608)              0         \n",
            "                                                                 \n",
            " dense_4 (Dense)             (None, 128)               589952    \n",
            "                                                                 \n",
            " dense_5 (Dense)             (None, 10)                1290      \n",
            "                                                                 \n",
            "=================================================================\n",
            "Total params: 592074 (2.26 MB)\n",
            "Trainable params: 592074 (2.26 MB)\n",
            "Non-trainable params: 0 (0.00 Byte)\n",
            "_________________________________________________________________\n",
            "Model: \"sequential_6\"\n",
            "_________________________________________________________________\n",
            " Layer (type)                Output Shape              Param #   \n",
            "=================================================================\n",
            " conv2d_11 (Conv2D)          (None, 30, 24, 24)        780       \n",
            "                                                                 \n",
            " max_pooling2d_3 (MaxPoolin  (None, 30, 12, 12)        0         \n",
            " g2D)                                                            \n",
            "                                                                 \n",
            " conv2d_12 (Conv2D)          (None, 15, 10, 10)        4065      \n",
            "                                                                 \n",
            " max_pooling2d_4 (MaxPoolin  (None, 15, 5, 5)          0         \n",
            " g2D)                                                            \n",
            "                                                                 \n",
            " dropout_2 (Dropout)         (None, 15, 5, 5)          0         \n",
            "                                                                 \n",
            " flatten_6 (Flatten)         (None, 375)               0         \n",
            "                                                                 \n",
            " dense_9 (Dense)             (None, 128)               48128     \n",
            "                                                                 \n",
            " dense_10 (Dense)            (None, 50)                6450      \n",
            "                                                                 \n",
            " dense_11 (Dense)            (None, 10)                510       \n",
            "                                                                 \n",
            "=================================================================\n",
            "Total params: 59933 (234.11 KB)\n",
            "Trainable params: 59933 (234.11 KB)\n",
            "Non-trainable params: 0 (0.00 Byte)\n",
            "_________________________________________________________________\n"
          ]
        }
      ]
    },
    {
      "cell_type": "code",
      "source": [
        "import cv2\n",
        "import numpy as np\n",
        "\n",
        "# Read the uploaded image\n",
        "image_path = \"/content/8.png\"\n",
        "image = cv2.imread(image_path)\n",
        "\n",
        "image = cv2.cvtColor(image, cv2.COLOR_BGR2GRAY)  # Convert to grayscale\n",
        "image = cv2.resize(image, (28, 28))  # Resize to 28x28 pixels\n",
        "image = np.expand_dims(image, axis=0)  # Add batch dimension\n",
        "image = np.expand_dims(image, axis=1)  # Add channel dimension\n",
        "\n",
        "# Make predictions\n",
        "predictions = medium_model.predict(image)\n",
        "\n",
        "# Interpret the predictions\n",
        "# For example, if your model predicts class probabilities, you can get the predicted class label\n",
        "predicted_class = np.argmax(predictions)\n",
        "\n",
        "# Print the predicted class\n",
        "print(\"Predicted class:\", predicted_class)"
      ],
      "metadata": {
        "colab": {
          "base_uri": "https://localhost:8080/"
        },
        "id": "ySoOfKmOgSAu",
        "outputId": "1bbbc6bb-c223-4c85-c94f-0857ad654d97"
      },
      "execution_count": null,
      "outputs": [
        {
          "output_type": "stream",
          "name": "stdout",
          "text": [
            "1/1 [==============================] - 0s 18ms/step\n",
            "Predicted class: 8\n"
          ]
        }
      ]
    }
  ]
}